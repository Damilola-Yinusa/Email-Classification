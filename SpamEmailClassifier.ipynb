{
 "cells": [
  {
   "cell_type": "markdown",
   "metadata": {},
   "source": [
    "Naive Bayes classifier that can separate spam and non-spam emails. By Damilola Yinusa"
   ]
  },
  {
   "cell_type": "code",
   "execution_count": null,
   "metadata": {},
   "outputs": [],
   "source": [
    "pip install scikit-learn pandas"
   ]
  },
  {
   "cell_type": "code",
   "execution_count": null,
   "metadata": {},
   "outputs": [],
   "source": [
    "from sklearn.feature_extraction.text import TfidfVectorizer\n",
    "from sklearn.model_selection import train_test_split, GridSearchCV\n",
    "from sklearn.ensemble import RandomForestClassifier\n",
    "from sklearn.metrics import accuracy_score, confusion_matrix, precision_score, recall_score, f1_score\n",
    "from sklearn.utils.class_weight import compute_class_weight\n",
    "import pandas as pd\n",
    "import re\n",
    "import os\n",
    "\n",
    "# Function to clean text by removing special characters and converting to lowercase\n",
    "def clean_text(text):\n",
    "    return re.sub(r'[^\\w\\s]', '', text).lower()\n",
    "\n",
    "# Check if the dataset file exists\n",
    "if not os.path.exists('email_data.csv'):\n",
    "    print(\"The file 'email_data.csv' does not exist.\")\n",
    "else:\n",
    "    # Read dataset from CSV file\n",
    "    df = pd.read_csv('spam_ham_dataset.csv')\n",
    "\n",
    "    # Clean the email text\n",
    "    df['text'] = df['text'].apply(clean_text)\n",
    "\n",
    "    # Split data into train and test sets\n",
    "    X_train, X_test, y_train, y_test = train_test_split(df['text'], df['label'], test_size=0.2, random_state=42)\n",
    "\n",
    "    # Create a TF-IDF vectorizer with bigrams and unigrams, and fit_transform the training data\n",
    "    vectorizer = TfidfVectorizer(ngram_range=(1, 2))\n",
    "    X_train_tfidf = vectorizer.fit_transform(X_train)\n",
    "    X_test_tfidf = vectorizer.transform(X_test)\n",
    "\n",
    "    # Define a Random Forest Classifier\n",
    "    params = {\n",
    "        'n_estimators': [50, 100, 200],\n",
    "        'max_depth': [None, 30, 50, 100],\n",
    "        'class_weight': ['balanced']\n",
    "    }\n",
    "    clf = RandomForestClassifier(random_state=42)\n",
    "    grid_clf = GridSearchCV(clf, params, cv=5)\n",
    "    \n",
    "    # Train the classifier\n",
    "    grid_clf.fit(X_train_tfidf, y_train)\n",
    "    \n",
    "    # Make predictions\n",
    "    y_pred = grid_clf.predict(X_test_tfidf)\n",
    "\n",
    "    # Evaluate the classifier\n",
    "    print(f'Accuracy: {accuracy_score(y_test, y_pred)}')\n",
    "    print(f'Precision: {precision_score(y_test, y_pred)}')\n",
    "    print(f'Recall: {recall_score(y_test, y_pred)}')\n",
    "    print(f'F1 Score: {f1_score(y_test, y_pred)}')\n",
    "    print(f'Confusion Matrix:\\n{confusion_matrix(y_test, y_pred)}')\n"
   ]
  }
 ],
 "metadata": {
  "kernelspec": {
   "display_name": "Python 3",
   "language": "python",
   "name": "python3"
  },
  "language_info": {
   "codemirror_mode": {
    "name": "ipython",
    "version": 3
   },
   "file_extension": ".py",
   "mimetype": "text/x-python",
   "name": "python",
   "nbconvert_exporter": "python",
   "pygments_lexer": "ipython3",
   "version": "3.11.5"
  },
  "orig_nbformat": 4
 },
 "nbformat": 4,
 "nbformat_minor": 2
}
